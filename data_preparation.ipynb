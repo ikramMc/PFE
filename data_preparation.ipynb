{
  "nbformat": 4,
  "nbformat_minor": 0,
  "metadata": {
    "colab": {
      "provenance": [],
      "gpuType": "T4",
      "authorship_tag": "ABX9TyORiUt/dTXfflk9EPUIkdM7",
      "include_colab_link": true
    },
    "kernelspec": {
      "name": "python3",
      "display_name": "Python 3"
    },
    "language_info": {
      "name": "python"
    },
    "accelerator": "GPU"
  },
  "cells": [
    {
      "cell_type": "markdown",
      "metadata": {
        "id": "view-in-github",
        "colab_type": "text"
      },
      "source": [
        "<a href=\"https://colab.research.google.com/github/ikramMc/PFE/blob/main/data_preparation.ipynb\" target=\"_parent\"><img src=\"https://colab.research.google.com/assets/colab-badge.svg\" alt=\"Open In Colab\"/></a>"
      ]
    },
    {
      "cell_type": "markdown",
      "source": [
        "# **Synthetic data**"
      ],
      "metadata": {
        "id": "IloNuFVGtvlk"
      }
    },
    {
      "cell_type": "code",
      "execution_count": null,
      "metadata": {
        "id": "sShDwxShrEuA"
      },
      "outputs": [],
      "source": [
        "import requests\n",
        "import os\n",
        "from pathlib import Path\n",
        "import time\n",
        "import json\n",
        "\n",
        "hyperbolic_API_KEY = os.getenv(\"Hyberbolic_key\")\n",
        "# 🔧 Model and endpoint\n",
        "MODEL_NAME = \"deepseek-ai/DeepSeek-V3\"\n",
        "API_URL = \"https://api.hyperbolic.xyz/v1/chat/completions\"\n",
        "\n",
        "\n",
        "# 🧾 Instruction prompt\n",
        "system_prompt = \"\"\"You are an offensive security expert with deep understanding of ethical hacking. Turn this raw text to pairs of (instruction-answer) that help to assess pentesters knowledge and skills on offensive security.\n",
        "Instructions must never explicitly reference the text, figure or table. Instructions must be self-contained and with different levels of complexity. Only use concepts from the provided text.\n",
        "Make answers detailed if details exist (e.g., examples), and diversify more the type of questions (use verbs, instructions, scenario-based questions, WH questions, conversational mode).\n",
        "\n",
        "Return the output in this JSON format with this structure:\n",
        "[\n",
        "  {\n",
        "    \"instruction\": \"\",\n",
        "    \"answer\": \"\"\n",
        "  },\n",
        "  ...\n",
        "]generate the maximum of pairs ,no limit\"\"\"\n",
        "\n",
        "headers = {\n",
        "    \"Authorization\": f\"Bearer {hyperbolic_API_KEY}\",\n",
        "    \"Content-Type\": \"application/json\"\n",
        "}\n",
        "\n",
        "# 📄 Load already processed files\n",
        "processed_file = Path(\"processed_for_generation (2).txt\")\n",
        "processed_files = set()\n",
        "\n",
        "if processed_file.exists():\n",
        "    with open(processed_file, \"r\", encoding=\"utf-8\") as f:\n",
        "        processed_files = set(line.strip() for line in f.readlines())\n",
        "\n",
        "# 📂 Load file names from group1.txt\n",
        "group1_file = Path(\"group1.txt\")\n",
        "if not group1_file.exists():\n",
        "    print(\"❌ 'group1.txt' not found.\")\n",
        "    exit()\n",
        "\n",
        "with open(group1_file, \"r\", encoding=\"utf-8\") as f:\n",
        "    group1_files = [line.strip() for line in f.readlines() if line.strip()]\n",
        "\n",
        "counter = 0\n",
        "for filename in group1_files:\n",
        "    md_file = Path(filename)\n",
        "    if not md_file.exists():\n",
        "        print(f\"⚠️ File {filename} not found, skipping.\")\n",
        "        continue\n",
        "    if md_file.name in processed_files:\n",
        "        print(f\"⏩ Skipping already processed file: {md_file.name}\")\n",
        "        continue\n",
        "\n",
        "    print(f\"📄 Processing {md_file.name}\")\n",
        "    with open(md_file, \"r\", encoding=\"utf-8\") as f:\n",
        "        writeup_content = f.read()\n",
        "\n",
        "    payload = {\n",
        "        \"model\": MODEL_NAME,\n",
        "        \"messages\": [\n",
        "            {\"role\": \"system\", \"content\": system_prompt},\n",
        "            {\"role\": \"user\", \"content\": writeup_content}\n",
        "        ],\n",
        "        \"temperature\": 0.7,\n",
        "        \"max_tokens\": 40960,\n",
        "        \"top_p\": 0.9\n",
        "    }\n",
        "\n",
        "    try:\n",
        "        response = requests.post(API_URL, headers=headers, json=payload)\n",
        "        response.raise_for_status()\n",
        "        result = response.json()\n",
        "        conversation = result[\"choices\"][0][\"message\"][\"content\"]\n",
        "\n",
        "        # Count number of instruction-answer pairs\n",
        "        try:\n",
        "            count = conversation.count('\"instruction\":')\n",
        "            print(f\"🔢 {count} instruction-answer pairs generated.\")\n",
        "        except Exception:\n",
        "            print(\"⚠️ Failed to count instruction-answer pairs.\")\n",
        "            print(conversation)\n",
        "\n",
        "        # Save result\n",
        "        output_path = Path(f\"QA_{md_file.stem}.md\")\n",
        "        with open(output_path, \"w\", encoding=\"utf-8\") as out:\n",
        "            out.write(conversation)\n",
        "\n",
        "        print(f\"✅ QA saved to {output_path.name}\")\n",
        "        counter += 1\n",
        "\n",
        "        # Mark as processed\n",
        "        with open(processed_file, \"a\", encoding=\"utf-8\") as f:\n",
        "            f.write(md_file.name + \"\\n\")\n",
        "\n",
        "        if counter % 2 == 0:\n",
        "            print(\"⏳ Sleeping for 10 seconds...\")\n",
        "            time.sleep(2)\n",
        "\n",
        "    except Exception as e:\n",
        "        print(f\"❌ Error processing {md_file.name}: {e}\")\n"
      ]
    },
    {
      "cell_type": "markdown",
      "source": [
        "**POST-processing, deduplication, check similarity with source files**"
      ],
      "metadata": {
        "id": "5DQ6jtae05WG"
      }
    },
    {
      "cell_type": "markdown",
      "source": [
        "**check similarity with source**"
      ],
      "metadata": {
        "id": "lMd7q51R35I5"
      }
    },
    {
      "cell_type": "code",
      "source": [
        "#first turn instruction and resposne columns to chatML format\n",
        "import pandas as pd\n",
        "import json\n",
        "\n",
        "def generate_conversations(df):\n",
        "    conversations = []\n",
        "    for _, row in df.iterrows():\n",
        "        if pd.isna(row['instruction']) or pd.isna(row['answer']):\n",
        "            conversations.append(None)\n",
        "            continue\n",
        "        convo = [\n",
        "            {\"role\": \"user\", \"content\": str(row['instruction']).strip()},\n",
        "            {\"role\": \"assistant\", \"content\": str(row['answer']).strip()}\n",
        "        ]\n",
        "        conversations.append(convo)\n",
        "    return conversations\n",
        "\n",
        "if __name__ == \"__main__\":\n",
        "    # 📂 Input CSV path\n",
        "    csv_path = \"instruction_answer_pairs_with_dup_no_sim_clean_with_source_file.csv\"\n",
        "\n",
        "    try:\n",
        "        # Charger le fichier CSV\n",
        "        df = pd.read_csv(csv_path)\n",
        "\n",
        "        if not all(col in df.columns for col in ['instruction', 'answer']):\n",
        "            raise ValueError(\"CSV must contain 'instruction' and 'answer' columns.\")\n",
        "\n",
        "        # Générer les conversations et ajouter une nouvelle colonne\n",
        "        df['conversations'] = generate_conversations(df)\n",
        "\n",
        "        # Convert list of dicts to JSON string for saving\n",
        "        df['conversations'] = df['conversations'].apply(lambda x: json.dumps(x) if x is not None else \"\")\n",
        "\n",
        "        # Sauvegarder dans le même fichier (ou un autre si tu veux garder l’original)\n",
        "        df.to_csv(csv_path, index=False)\n",
        "        print(f\"✅ Conversations saved back to: {csv_path}\")\n",
        "\n",
        "    except Exception as e:\n",
        "        print(f\"❌ Error: {str(e)}\")\n"
      ],
      "metadata": {
        "id": "F6FV_xp402FO"
      },
      "execution_count": null,
      "outputs": []
    },
    {
      "cell_type": "code",
      "source": [
        "#For every conversations entry in a CSV file, the script finds the most similar text chunk in its associated .md documentation (based on sentence embeddings) and saves the result to a new CSV.\n",
        "import os\n",
        "import pandas as pd\n",
        "from sentence_transformers import SentenceTransformer, util\n",
        "import torch\n",
        "\n",
        "# Configuration\n",
        "CSV_PATH = \"instruction_answer_pairs_with_dup_no_sim_clean_with_source_file.csv\"  # Dataset with 'conversations' and 'source_file'\n",
        "MD_DIR = \"./\"                          # Folder with .md files\n",
        "CHUNK_SIZE =2000                      # Characters per chunk\n",
        "MODEL_NAME = \"intfloat/multilingual-e5-large-instruct\"  # Sentence embedding model\n",
        "DEVICE = \"cuda\" if torch.cuda.is_available() else \"cpu\"\n",
        "\n",
        "# Load dataset and model\n",
        "df = pd.read_csv(CSV_PATH)\n",
        "model = SentenceTransformer(MODEL_NAME, device=DEVICE)\n",
        "\n",
        "# Helper: Split large text into chunks\n",
        "def chunk_text(text, chunk_size=2000):\n",
        "    return [text[i:i + chunk_size] for i in range(0, len(text), chunk_size)]\n",
        "\n",
        "# Prepare results list\n",
        "results = []\n",
        "\n",
        "# Group dataset by source_file (excluding UNKNOWN)\n",
        "grouped = df[df['source_file'] != \"UNKNOWN\"].groupby('source_file')\n",
        "\n",
        "# Process each source file group\n",
        "for source_file, group_df in grouped:\n",
        "    source_file_clean = source_file.replace(\"QA_\", \"\")\n",
        "    md_path = os.path.join(MD_DIR, source_file_clean)\n",
        "\n",
        "    if not os.path.isfile(md_path):\n",
        "        print(f\"⚠️ File not found: {md_path}\")\n",
        "        continue\n",
        "\n",
        "    # Read and chunk .md file\n",
        "    with open(md_path, 'r', encoding='utf-8') as f:\n",
        "        content = f.read()\n",
        "    chunks = chunk_text(content, chunk_size=CHUNK_SIZE)\n",
        "    chunk_embeddings = model.encode(chunks, convert_to_tensor=True)\n",
        "\n",
        "    # Batch encode conversations\n",
        "    conversations = group_df['conversations'].tolist()\n",
        "    conv_embeddings = model.encode(conversations, convert_to_tensor=True)\n",
        "\n",
        "    # Compute cosine similarity\n",
        "    sim_matrix = util.cos_sim(conv_embeddings, chunk_embeddings)\n",
        "    max_scores, max_idxs = sim_matrix.max(dim=1)\n",
        "\n",
        "    # Store results with conversation included\n",
        "    for idx, row_idx in enumerate(group_df.index):\n",
        "        results.append({\n",
        "            \"index\": row_idx,\n",
        "            \"source_file\": source_file,\n",
        "            \"conversations\": df.at[row_idx, \"conversations\"],\n",
        "            \"best_chunk\": chunks[max_idxs[idx].item()],\n",
        "            \"similarity\": max_scores[idx].item()\n",
        "        })\n",
        "\n",
        "# Handle UNKNOWN source_file entries\n",
        "unknown_rows = df[df['source_file'] == \"UNKNOWN\"]\n",
        "for _, row in unknown_rows.iterrows():\n",
        "    results.append({\n",
        "        \"index\": row.name,\n",
        "        \"source_file\": row['source_file'],\n",
        "        \"conversations\": row['conversations'],\n",
        "        \"best_chunk\": \"\",\n",
        "        \"similarity\": 0.0\n",
        "    })\n",
        "\n",
        "# Convert to DataFrame, sort by original index, save\n",
        "results_df = pd.DataFrame(results).sort_values(by=\"index\")\n",
        "results_df.to_csv(\"conversation_best_chunks.csv\", index=False)\n",
        "print(\"✅ Results saved to 'conversation_best_chunks.csv'\")\n"
      ],
      "metadata": {
        "id": "gnrU1-kB1jPy"
      },
      "execution_count": null,
      "outputs": []
    },
    {
      "cell_type": "code",
      "source": [
        "import pandas as pd\n",
        "\n",
        "# Charger les deux fichiers\n",
        "original_df = pd.read_csv(\"instruction_answer_pairs_with_dup_no_sim_clean_with_source_file.csv\")\n",
        "similarity_df = pd.read_csv(\"conversation_best_chunks.csv\")\n",
        "\n",
        "# Fusionner les deux fichiers sur l'index (ou la colonne 'index' si elle est présente)\n",
        "merged_df = original_df.copy()\n",
        "merged_df[\"similarity\"] = similarity_df[\"similarity\"]\n",
        "\n",
        "# Garder uniquement les lignes avec une similarité >= 0.87\n",
        "filtered_df = merged_df[(merged_df[\"similarity\"] >= 0.87) | (merged_df['source_file'] == \"UNKNOWN\")]\n",
        "\n",
        "# Supprimer la colonne de similarité si elle n'est plus nécessaire\n",
        "filtered_df = filtered_df.drop(columns=[\"similarity\"])\n",
        "\n",
        "# Sauvegarder le nouveau fichier nettoyé\n",
        "filtered_df.to_csv(\"instruction_answer_pairs_filtered.csv\", index=False)\n",
        "\n",
        "print(f\"✅ Fichier filtré sauvegardé avec {len(filtered_df)} lignes.\")\n"
      ],
      "metadata": {
        "id": "PexSyZ1t2Q-x"
      },
      "execution_count": null,
      "outputs": []
    },
    {
      "cell_type": "markdown",
      "source": [
        "**deduplication**"
      ],
      "metadata": {
        "id": "oVhHsyjt3_S9"
      }
    },
    {
      "cell_type": "code",
      "source": [
        "%%capture\n",
        "!pip install faiss-cpu\n",
        "# Install libraries\n",
        "!pip install -q datasets transformers sentence_transformers faiss-gpu-cu12\n",
        "!pip install numpy --upgrade\n",
        "!pip install pandas --upgrade --force-reinstall"
      ],
      "metadata": {
        "id": "GJ3ouAhk39ht"
      },
      "execution_count": null,
      "outputs": []
    },
    {
      "cell_type": "code",
      "source": [
        "import pandas as pd\n",
        "dataset=pd.read_csv(\"instruction_answer_pairs_with_dup_sim_clean_with_source_file.csv\")"
      ],
      "metadata": {
        "id": "-pZVkCny4kId"
      },
      "execution_count": null,
      "outputs": []
    },
    {
      "cell_type": "code",
      "source": [],
      "metadata": {
        "id": "gcaXSrDz4xuN"
      },
      "execution_count": null,
      "outputs": []
    },
    {
      "cell_type": "code",
      "execution_count": null,
      "metadata": {
        "colab": {
          "base_uri": "https://localhost:8080/",
          "height": 1000
        },
        "id": "DTz2BWNLqZ8C",
        "outputId": "2556bd70-d618-4c00-a5ba-348bed499ccb"
      },
      "outputs": [
        {
          "output_type": "display_data",
          "data": {
            "text/plain": [
              "<Figure size 1500x600 with 1 Axes>"
            ],
            "image/png": "[encoded data removed]"
          },
          "metadata": {}
        },
        {
          "output_type": "display_data",
          "data": {
            "text/plain": [
              "<Figure size 1500x600 with 1 Axes>"
            ],
            "image/png": "[encoded data removed]"
          },
          "metadata": {}
        },
        {
          "output_type": "display_data",
          "data": {
            "text/plain": [
              "<Figure size 1500x600 with 1 Axes>"
            ],
            "image/png": "[encoded data removed]"
          },
          "metadata": {}
        }
      ],
      "source": [
        "from transformers import AutoTokenizer\n",
        "import matplotlib.pyplot as plt\n",
        "import seaborn as sns\n",
        "import ast  # To safely parse stringified lists of dicts\n",
        "import os\n",
        "token=os.getenv(\"HF_TOKEN\")\n",
        "# 1. Load the tokenizer\n",
        "tokenizer = AutoTokenizer.from_pretrained(\"mistralai/Mistral-7B-Instruct-v0.3\", token=token\n",
        "\n",
        "# 2. Initialize token count lists\n",
        "instruction_token_counts = []\n",
        "output_token_counts = []\n",
        "combined_token_counts = []\n",
        "\n",
        "# 3. Loop through each conversation\n",
        "for example in dataset.to_dict('records'):\n",
        "    try:\n",
        "        # Parse the stringified list of dictionaries\n",
        "        conversation = ast.literal_eval(example[\"conversations\"])\n",
        "        user_parts = [msg[\"content\"] for msg in conversation if msg[\"role\"] == \"user\"]\n",
        "        assistant_parts = [msg[\"content\"] for msg in conversation if msg[\"role\"] == \"assistant\"]\n",
        "\n",
        "        # Join multiple user/assistant parts if any\n",
        "        instruction_text = \" \".join(user_parts)\n",
        "        output_text = \" \".join(assistant_parts)\n",
        "\n",
        "        # Tokenize and count\n",
        "        instruction_tokens = len(tokenizer.tokenize(instruction_text))\n",
        "        output_tokens = len(tokenizer.tokenize(output_text))\n",
        "        combined_tokens = instruction_tokens + output_tokens\n",
        "\n",
        "        # Append to lists\n",
        "        instruction_token_counts.append(instruction_tokens)\n",
        "        output_token_counts.append(output_tokens)\n",
        "        combined_token_counts.append(combined_tokens)\n",
        "\n",
        "    except Exception as e:\n",
        "        print(f\"Error processing row: {e}\")\n",
        "        continue\n",
        "\n",
        "# 4. Plotting helper\n",
        "def plot_distribution(token_counts, title):\n",
        "    sns.set_style(\"whitegrid\")\n",
        "    plt.figure(figsize=(15, 6))\n",
        "    plt.hist(token_counts, bins=50, color='#3498db', edgecolor='black')\n",
        "    plt.title(title, fontsize=16)\n",
        "    plt.xlabel(\"Number of tokens\", fontsize=14)\n",
        "    plt.ylabel(\"Number of examples\", fontsize=14)\n",
        "    plt.xticks(fontsize=12)\n",
        "    plt.yticks(fontsize=12)\n",
        "    plt.tight_layout()\n",
        "    plt.show()\n",
        "\n",
        "# 5. Plot the token distributions\n",
        "plot_distribution(instruction_token_counts, \"Distribution of token counts for instruction (user messages)\")\n",
        "plot_distribution(output_token_counts, \"Distribution of token counts for output (assistant messages)\")\n",
        "plot_distribution(combined_token_counts, \"Distribution of token counts for combined instruction + output\")\n"
      ]
    },
    {
      "cell_type": "code",
      "source": [
        "import pandas as pd\n",
        "import numpy as np\n",
        "import ast\n",
        "from sentence_transformers import SentenceTransformer\n",
        "import faiss\n",
        "from tqdm.auto import tqdm\n",
        "\n",
        "def extract_assistant_responses(conversations):\n",
        "    assistant_texts = []\n",
        "    for row in conversations:\n",
        "        conversation = ast.literal_eval(row) if isinstance(row, str) else row\n",
        "        assistant_turns = [turn['content'] for turn in conversation if turn['role'] == 'assistant']\n",
        "        assistant_texts.append(\" \".join(assistant_turns))\n",
        "    return assistant_texts\n",
        "\n",
        "def deduplicate_dataset(df, model_name: str, threshold: float):\n",
        "    # Extract assistant responses\n",
        "    outputs = extract_assistant_responses(df['conversations'])\n",
        "\n",
        "    # Encode responses\n",
        "    sentence_model = SentenceTransformer(model_name)\n",
        "    print(\"Converting text to embeddings...\")\n",
        "    embeddings = sentence_model.encode(outputs, show_progress_bar=True)\n",
        "    dimension = embeddings.shape[1]\n",
        "    normalized_embeddings = embeddings / np.linalg.norm(embeddings, axis=1, keepdims=True)\n",
        "\n",
        "    # Build FAISS index\n",
        "    index = faiss.IndexFlatIP(dimension)\n",
        "    index.add(normalized_embeddings)\n",
        "\n",
        "    # Search for near-duplicates\n",
        "    print(\"Filtering out near-duplicates...\")\n",
        "    D, I = index.search(normalized_embeddings, k=2)\n",
        "    to_keep = set()\n",
        "    duplicate_indices = set()\n",
        "    duplicate_records = []\n",
        "    duplicate_pairs = []\n",
        "\n",
        "    for i in tqdm(range(len(embeddings)), desc=\"Filtering\"):\n",
        "        if D[i, 1] >= threshold:\n",
        "            nearest_neighbor = I[i, 1]\n",
        "            if i not in duplicate_indices and nearest_neighbor not in duplicate_indices:\n",
        "                # Save one of the duplicates\n",
        "                duplicate_indices.add(nearest_neighbor)\n",
        "                duplicate_records.append(df.iloc[nearest_neighbor])\n",
        "                # Save both items with similarity score\n",
        "                duplicate_pairs.append({\n",
        "                    'item_1': df.iloc[i]['conversations'],\n",
        "                    'item_2': df.iloc[nearest_neighbor]['conversations'],\n",
        "                    'similarity': D[i, 1]\n",
        "                })\n",
        "        else:\n",
        "            to_keep.add(i)\n",
        "\n",
        "    # Create deduplicated DataFrame\n",
        "    deduped_df = df.drop(index=duplicate_indices).reset_index(drop=True)\n",
        "\n",
        "    # Save results\n",
        "    pd.DataFrame(duplicate_records).to_csv(\"duplicates.csv\", index=False)\n",
        "    pd.DataFrame(duplicate_pairs).to_csv(\"duplicate_pairs.csv\", index=False)\n",
        "    deduped_df.to_csv(\"deduplicated_dataset.csv\", index=False)\n",
        "\n",
        "    return deduped_df\n",
        "\n",
        "merged_df =dataset\n",
        "\n",
        "# Deduplicate the merged dataset\n",
        "deduplicated_df = deduplicate_dataset(merged_df, \"intfloat/multilingual-e5-large-instruct\", 0.96)\n"
      ],
      "metadata": {
        "id": "oFLODxJG46Ow"
      },
      "execution_count": null,
      "outputs": []
    },
    {
      "cell_type": "code",
      "execution_count": null,
      "metadata": {
        "colab": {
          "base_uri": "https://localhost:8080/",
          "height": 116,
          "referenced_widgets": [
            "c9fecc9da69b4aa59424cf5540d3d63e",
            "e6ec27e394c8493d9076265e53d11205",
            "7e0f06306bd84433afae51b76be19d0e",
            "0ee4be081bc540f2959c33c3ea30e1b1",
            "6c813d4e228c4d76a4ce39ab9fcc307b",
            "8d5a433c28684721a0e04d4c1aa38de5",
            "e828da27bf1c4c94810da663a7b86978",
            "4542cc03cfec4e90bac11559b3aa17b7",
            "46e88d13bfae4f7ea3fe7ad46b862129",
            "39eae0cc11cf4589b20a4a5bb44b5103",
            "ec060122eb37438b926bda01708ddcab",
            "2d0f470b54ae431195bc75bb23fd62c7",
            "a751460ee0d140dc9ded1b2b135d6849",
            "6d37c7ac29b340b884b3342742e4992d",
            "12ac41f3bbee4fa19cd21d8f8e4c2339",
            "34ae57a66a2b4693b9fb88ca0ea25503",
            "c639dad9b4dc4bcf92353ce189b54842",
            "ed24cefaa37546d394b81ba58a63a057",
            "d3e6ac4f15244b2e992769d37a9a1e3c",
            "bf6a8cd3afdb4614900dc2afb5c3c8f8",
            "b3841c7a29814bfaa5790da5c7ffa27f",
            "6b74ddc9b7224a618102275f6e4166ec"
          ]
        },
        "id": "he0DkRgWqu_8",
        "outputId": "f7df426c-6a25-4645-ad0a-e00ab1af25a7"
      },
      "outputs": [
        {
          "output_type": "stream",
          "name": "stdout",
          "text": [
            "Converting text to embeddings...\n"
          ]
        },
        {
          "output_type": "display_data",
          "data": {
            "text/plain": [
              "Batches:   0%|          | 0/372 [00:00<?, ?it/s]"
            ],
            "application/vnd.jupyter.widget-view+json": {
              "version_major": 2,
              "version_minor": 0,
              "model_id": "c9fecc9da69b4aa59424cf5540d3d63e"
            }
          },
          "metadata": {}
        },
        {
          "output_type": "stream",
          "name": "stdout",
          "text": [
            "Filtering out near-duplicates...\n"
          ]
        },
        {
          "output_type": "display_data",
          "data": {
            "text/plain": [
              "Filtering:   0%|          | 0/11882 [00:00<?, ?it/s]"
            ],
            "application/vnd.jupyter.widget-view+json": {
              "version_major": 2,
              "version_minor": 0,
              "model_id": "2d0f470b54ae431195bc75bb23fd62c7"
            }
          },
          "metadata": {}
        }
      ],
      "source": [
        "import pandas as pd\n",
        "import numpy as np\n",
        "import ast\n",
        "from sentence_transformers import SentenceTransformer\n",
        "import faiss\n",
        "from tqdm.auto import tqdm\n",
        "\n",
        "def extract_assistant_responses(conversations):\n",
        "    assistant_texts = []\n",
        "    for row in conversations:\n",
        "        conversation = ast.literal_eval(row) if isinstance(row, str) else row\n",
        "        assistant_turns = [turn['content'] for turn in conversation if turn['role'] == 'assistant']\n",
        "        assistant_texts.append(\" \".join(assistant_turns))\n",
        "    return assistant_texts\n",
        "\n",
        "def deduplicate_dataset(df, model_name: str, threshold: float):\n",
        "    # Extract assistant responses\n",
        "    outputs = extract_assistant_responses(df['conversations'])\n",
        "\n",
        "    # Encode responses\n",
        "    sentence_model = SentenceTransformer(model_name)\n",
        "    print(\"Converting text to embeddings...\")\n",
        "    embeddings = sentence_model.encode(outputs, show_progress_bar=True)\n",
        "    dimension = embeddings.shape[1]\n",
        "    normalized_embeddings = embeddings / np.linalg.norm(embeddings, axis=1, keepdims=True)\n",
        "\n",
        "    # Build FAISS index\n",
        "    index = faiss.IndexFlatIP(dimension)\n",
        "    index.add(normalized_embeddings)\n",
        "\n",
        "    # Search for near-duplicates\n",
        "    print(\"Filtering out near-duplicates...\")\n",
        "    D, I = index.search(normalized_embeddings, k=2)\n",
        "    to_keep = set()\n",
        "    duplicate_indices = set()\n",
        "    duplicate_records = []\n",
        "    duplicate_pairs = []\n",
        "\n",
        "    for i in tqdm(range(len(embeddings)), desc=\"Filtering\"):\n",
        "        if D[i, 1] >= threshold:\n",
        "            nearest_neighbor = I[i, 1]\n",
        "            if i not in duplicate_indices and nearest_neighbor not in duplicate_indices:\n",
        "                # Save one of the duplicates\n",
        "                duplicate_indices.add(nearest_neighbor)\n",
        "                duplicate_records.append(df.iloc[nearest_neighbor])\n",
        "                # Save both items with similarity score\n",
        "                duplicate_pairs.append({\n",
        "                    'item_1': df.iloc[i]['conversations'],\n",
        "                    'item_2': df.iloc[nearest_neighbor]['conversations'],\n",
        "                    'similarity': D[i, 1]\n",
        "                })\n",
        "        else:\n",
        "            to_keep.add(i)\n",
        "\n",
        "    # Create deduplicated DataFrame\n",
        "    deduped_df = df.drop(index=duplicate_indices).reset_index(drop=True)\n",
        "\n",
        "    # Save results\n",
        "    pd.DataFrame(duplicate_records).to_csv(\"duplicates.csv\", index=False)\n",
        "    pd.DataFrame(duplicate_pairs).to_csv(\"duplicate_pairs.csv\", index=False)\n",
        "    deduped_df.to_csv(\"deduplicated_dataset.csv\", index=False)\n",
        "\n",
        "    return deduped_df\n",
        "\n",
        "merged_df =dataset\n",
        "\n",
        "# Deduplicate the merged dataset\n",
        "deduplicated_df = deduplicate_dataset(merged_df, \"intfloat/multilingual-e5-large-instruct\", 0.96)\n"
      ]
    },
    {
      "cell_type": "markdown",
      "source": [
        "**manually fix samples with refrences to code , context,file ,figure....**"
      ],
      "metadata": {
        "id": "oisAsry55FZl"
      }
    },
    {
      "cell_type": "code",
      "source": [
        "import pandas as pd\n",
        "import re\n",
        "\n",
        "# Load your dataset\n",
        "df = pd.read_csv(\"deduplicated_dataset.csv\")\n",
        "\n",
        "# Define suspicious patterns\n",
        "reference_patterns = [\n",
        "    r\"\\b(as )?(shown|mentioned|explained|discussed) (above|below|earlier|before|in the file)?\\b\",\n",
        "    r\"\\bsee (the )?(snippet|figure|function|context|example|section|file|code)\\b\",\n",
        "    r\"\\bthe (snippet|figure|function|example|section|file|code)\\b\",\n",
        "    r\"\\b(previous|following|above|below)(snippet|figure|function|context|example|section|file|code)\\b\",\n",
        "    r\"\\bthis (snippet|figure|function|context|example|section|file|code)\\b\",\n",
        "    r\"\\bgiven (snippet|figure|function|context|example|section|file|code)\\b\",\n",
        "\n",
        "]\n",
        "\n",
        "# Combine into one regex pattern\n",
        "combined_pattern = re.compile(\"|\".join(reference_patterns), re.IGNORECASE)\n",
        "\n",
        "# Apply heuristic\n",
        "df[\"dangling_reference\"] = df[\"instruction\"].apply(lambda x: bool(combined_pattern.search(str(x))))\n",
        "\n",
        "# View problematic instructions\n",
        "suspect_instructions = df[df[\"dangling_reference\"] == True]\n",
        "\n",
        "# Save for review\n",
        "suspect_instructions.to_csv(\"instructions_with_potential_references.csv\", index=False)\n",
        "\n",
        "print(f\"⚠️ Found {len(suspect_instructions)} instructions that may contain unresolved references.\")\n"
      ],
      "metadata": {
        "colab": {
          "base_uri": "https://localhost:8080/"
        },
        "id": "zPz0UxJcx_o6",
        "outputId": "aae9ad6b-1929-49a0-8cc0-802f3edd320e"
      },
      "execution_count": null,
      "outputs": [
        {
          "output_type": "stream",
          "name": "stdout",
          "text": [
            "⚠️ Found 79 instructions that may contain unresolved references.\n"
          ]
        }
      ]
    },
    {
      "cell_type": "code",
      "source": [
        "import pandas as pd\n",
        "\n",
        "# Load the full dataset\n",
        "df_full = pd.read_csv(\"deduplicated_dataset.csv\")\n",
        "\n",
        "# Load the potential reference samples (before manual editing)\n",
        "suspect_df = pd.read_csv(\"instructions_with_potential_references.csv\")\n",
        "\n",
        "# Create a matching key using 'instruction' + 'answer' to ensure uniqueness\n",
        "df_full[\"key\"] = df_full[\"instruction\"].astype(str) + \"||\" + df_full[\"answer\"].astype(str)\n",
        "suspect_df[\"key\"] = suspect_df[\"instruction\"].astype(str) + \"||\" + suspect_df[\"answer\"].astype(str)\n",
        "\n",
        "# Filter out the suspect instructions from the full dataset\n",
        "df_cleaned = df_full[~df_full[\"key\"].isin(suspect_df[\"key\"])].drop(columns=[\"key\"])\n",
        "\n",
        "# Save the cleaned dataset\n",
        "df_cleaned.to_csv(\"instruction_answer_pairs_filtered_cleaned.csv\", index=False)\n",
        "\n",
        "print(f\"✅ Removed {len(df_full) - len(df_cleaned)} suspect samples.\")\n",
        "print(f\"🧼 Cleaned file saved as 'instruction_answer_pairs_filtered_cleaned.csv' with {len(df_cleaned)} rows.\")\n"
      ],
      "metadata": {
        "colab": {
          "base_uri": "https://localhost:8080/"
        },
        "id": "gVwN_11d1KM2",
        "outputId": "a08c4d02-8368-48b5-ef5d-64166e78d322"
      },
      "execution_count": null,
      "outputs": [
        {
          "output_type": "stream",
          "name": "stdout",
          "text": [
            "✅ Removed 79 suspect samples.\n",
            "🧼 Cleaned file saved as 'instruction_answer_pairs_filtered_cleaned.csv' with 11423 rows.\n"
          ]
        }
      ]
    },
    {
      "cell_type": "code",
      "source": [
        "import pandas as pd\n",
        "\n",
        "# Load the cleaned full dataset (no suspect samples)\n",
        "df_cleaned = pd.read_csv(\"instruction_answer_pairs_filtered_cleaned.csv\")\n",
        "\n",
        "# Load the manually processed suspect samples\n",
        "corrected_df = pd.read_csv(\"instructions_with_potential_references - processed.csv\")\n",
        "\n",
        "# Only keep the rows NOT marked as 'delete' in the 6th column\n",
        "# Replace 'action' with the actual name of your column if needed\n",
        "valid_corrections = corrected_df\n",
        "# Merge back the corrected rows\n",
        "merged_df = pd.concat([df_cleaned, valid_corrections], ignore_index=True)\n",
        "\n",
        "# Save the final dataset\n",
        "merged_df.to_csv(\"instruction_answer_pairs_final.csv\", index=False)\n",
        "\n",
        "print(f\"✅ Final dataset saved with {len(merged_df)} rows, including manually corrected samples.\")\n"
      ],
      "metadata": {
        "colab": {
          "base_uri": "https://localhost:8080/"
        },
        "id": "-TpjnbTj2wyg",
        "outputId": "89fa6642-8a4c-4cdb-8102-a3c446da7710"
      },
      "execution_count": null,
      "outputs": [
        {
          "output_type": "stream",
          "name": "stdout",
          "text": [
            "✅ Final dataset saved with 11483 rows, including manually corrected samples.\n"
          ]
        }
      ]
    },
    {
      "cell_type": "markdown",
      "source": [
        "# **Manual data**"
      ],
      "metadata": {
        "id": "2Ar76p13tz_U"
      }
    },
    {
      "cell_type": "markdown",
      "metadata": {
        "id": "mbUURcD20xIr"
      },
      "source": [
        "**convert Manual CTF conv to ChatML format**"
      ]
    },
    {
      "cell_type": "code",
      "execution_count": 3,
      "metadata": {
        "collapsed": true,
        "id": "2iTgUkbm1q1e"
      },
      "outputs": [],
      "source": [
        "%%capture\n",
        "!pip install datasets"
      ]
    },
    {
      "cell_type": "code",
      "execution_count": 1,
      "metadata": {
        "collapsed": true,
        "id": "vsX9fTZJ2EcA"
      },
      "outputs": [],
      "source": [
        "import pandas as pd\n",
        "from datasets import Dataset\n",
        "from pprint import pprint\n",
        "import json\n",
        "\n",
        "# Load the CSV file\n",
        "df = pd.read_csv('CTF Dataset - pairs.csv')  # Replace with your actual file path\n",
        "\n",
        "# Forward fill NaN values in the 'report' column to ensure continuity\n",
        "df['report'] = df['report'].ffill()\n",
        "\n",
        "# Initialize dataset list\n",
        "dataset = []\n",
        "\n",
        "# Group conversations by report\n",
        "for report, group in df.groupby('report'):\n",
        "    conversation = []\n",
        "\n",
        "    # Iterate over each row in the grouped data\n",
        "    for _, row in group.iterrows():\n",
        "        # Skip incomplete pairs (missing either input or output)\n",
        "        if pd.isna(row['Input']) or pd.isna(row['output']) or not row['Input'].strip() or not row['output'].strip():\n",
        "            continue\n",
        "\n",
        "        # Add human and assistant messages\n",
        "        conversation.append({\"role\": \"user\", \"content\": row['Input']})\n",
        "        conversation.append({\"role\": \"assistant\", \"content\": row['output']})\n",
        "\n",
        "    if conversation:  # Only add non-empty conversations\n",
        "        dataset.append({\"report\": report, \"conversations\": conversation})\n",
        "\n",
        "# Convert to Hugging Face Dataset format\n",
        "hf_dataset = Dataset.from_dict({\n",
        "    'report': [entry['report'] for entry in dataset],\n",
        "    'conversations': [entry['conversations'] for entry in dataset]\n",
        "})\n",
        "\n",
        "# Show one example\n",
        "#print(\"Example conversation for one report:\")\n",
        "#pprint(hf_dataset['conversations'][0])\n",
        "\n",
        "# Optional: Save to CSV (each conversation as a JSON string)\n",
        "df_to_save = pd.DataFrame({\n",
        "    'report': [entry['report'] for entry in dataset],\n",
        "    'conversations': [json.dumps(entry['conversations'], ensure_ascii=False) for entry in dataset]\n",
        "})\n",
        "df_to_save.to_csv('all_report_conversations.csv', index=False)\n"
      ]
    },
    {
      "cell_type": "markdown",
      "source": [],
      "metadata": {
        "id": "w99Or4yJ9G5z"
      }
    },
    {
      "cell_type": "markdown",
      "source": [
        "# **Gather data from hacktricks , CTF and CEH then split train-test-val**"
      ],
      "metadata": {
        "id": "3Z3I2p238DyH"
      }
    },
    {
      "cell_type": "code",
      "source": [
        "import pandas as pd\n",
        "import json\n",
        "from datasets import Dataset, concatenate_datasets\n",
        "from pprint import pprint\n",
        "\n",
        "def load_instruction_answer(csv_path, source_name):\n",
        "    df = pd.read_csv(csv_path)\n",
        "    if not all(col in df.columns for col in ['instruction', 'answer']):\n",
        "        raise ValueError(f\"{csv_path} must contain 'instruction' and 'answer' columns.\")\n",
        "\n",
        "    conversation_dataset = []\n",
        "    for _, row in df.iterrows():\n",
        "        if pd.isna(row['instruction']) or pd.isna(row['answer']):\n",
        "            continue\n",
        "\n",
        "        conversation = [\n",
        "            {\"role\": \"user\", \"content\": str(row['instruction']).strip()},\n",
        "            {\"role\": \"assistant\", \"content\": str(row['answer']).strip()}\n",
        "        ]\n",
        "        conversation_dataset.append({\n",
        "            \"conversations\": conversation,\n",
        "            \"source\": source_name\n",
        "        })\n",
        "\n",
        "    return Dataset.from_dict({\n",
        "        'conversations': [entry['conversations'] for entry in conversation_dataset],\n",
        "        'source': [entry['source'] for entry in conversation_dataset]\n",
        "    })\n",
        "\n",
        "\n",
        "def load_question_answer(csv_path, source_name):\n",
        "    df = pd.read_csv(csv_path)\n",
        "    if not all(col in df.columns for col in ['question', 'answer']):\n",
        "        raise ValueError(f\"{csv_path} must contain 'question' and 'answer' columns.\")\n",
        "\n",
        "    conversation_dataset = []\n",
        "    for _, row in df.iterrows():\n",
        "        if pd.isna(row['question']) or pd.isna(row['answer']):\n",
        "            continue\n",
        "\n",
        "        conversation = [\n",
        "            {\"role\": \"user\", \"content\": str(row['question']).strip()},\n",
        "            {\"role\": \"assistant\", \"content\": str(row['answer']).strip()}\n",
        "        ]\n",
        "        conversation_dataset.append({\n",
        "            \"conversations\": conversation,\n",
        "            \"source\": source_name\n",
        "        })\n",
        "\n",
        "    return Dataset.from_dict({\n",
        "        'conversations': [entry['conversations'] for entry in conversation_dataset],\n",
        "        'source': [entry['source'] for entry in conversation_dataset]\n",
        "    })\n",
        "\n",
        "\n",
        "def load_conversation_direct(csv_path, source_name):\n",
        "    df = pd.read_csv(csv_path)\n",
        "    if 'conversations' not in df.columns:\n",
        "        raise ValueError(f\"{csv_path} must contain 'conversations' column.\")\n",
        "\n",
        "    conversation_dataset = []\n",
        "    for _, row in df.iterrows():\n",
        "        if pd.isna(row['conversations']):\n",
        "            continue\n",
        "\n",
        "        try:\n",
        "            conv_list = json.loads(row['conversations'])\n",
        "        except json.JSONDecodeError:\n",
        "            raise ValueError(f\"Invalid JSON format in 'conversations': {row['conversations']}\")\n",
        "\n",
        "        conversation_dataset.append({\n",
        "            \"conversations\": conv_list,\n",
        "            \"source\": source_name\n",
        "        })\n",
        "\n",
        "    return Dataset.from_dict({\n",
        "        'conversations': [entry['conversations'] for entry in conversation_dataset],\n",
        "        'source': [entry['source'] for entry in conversation_dataset]\n",
        "    })\n",
        "\n",
        "\n",
        "if __name__ == \"__main__\":\n",
        "    # Définir les chemins vers les fichiers\n",
        "    instruction_answer_csv = \"instruction_answer_pairs_final.csv\"  # HackTricks\n",
        "    question_answer_csv = \"CEH.csv\"                                # CEH\n",
        "    conversation_direct_csv =\"all_report_conversations.csv\"                        # CTF (déjà formaté)\n",
        "\n",
        "    try:\n",
        "        # Charger les jeux de données avec le nom de la source\n",
        "        dataset1 = load_instruction_answer(instruction_answer_csv, \"HackTricks\")\n",
        "        dataset2 = load_question_answer(question_answer_csv, \"CEH\")\n",
        "        dataset3 = load_conversation_direct(conversation_direct_csv, \"CTF-man\")\n",
        "\n",
        "        # Fusionner les datasets\n",
        "        full_dataset = concatenate_datasets([dataset1, dataset2, dataset3])\n",
        "\n",
        "        # Mélanger les données\n",
        "        full_dataset = full_dataset.shuffle(seed=3407)\n",
        "\n",
        "        # Afficher les infos\n",
        "        print(f\"✅ Full dataset created with {len(full_dataset)} conversations\\n\")\n",
        "        print(\"🧪 Example conversation:\")\n",
        "        pprint(full_dataset[0]['conversations'])\n",
        "        print(f\"📄 Source: {full_dataset[0]['source']}\")\n",
        "\n",
        "        # Sauvegarder sous CSV\n",
        "        df = full_dataset.to_pandas()\n",
        "        df.to_csv(\"final_conversation_dataset.csv\", index=False)\n",
        "        print(\"💾 Dataset saved to final_conversation_dataset.csv\")\n",
        "\n",
        "    except Exception as e:\n",
        "        print(f\"❌ Error: {str(e)}\")\n"
      ],
      "metadata": {
        "colab": {
          "base_uri": "https://localhost:8080/"
        },
        "id": "On5QWyHkDEJK",
        "outputId": "8fb29853-e910-4aa0-fa72-952ebe168f79"
      },
      "execution_count": null,
      "outputs": [
        {
          "output_type": "stream",
          "name": "stderr",
          "text": [
            "/usr/local/lib/python3.11/dist-packages/datasets/table.py:1395: FutureWarning: promote has been superseded by promote_options='default'.\n",
            "  block_group = [InMemoryTable(cls._concat_blocks(list(block_group), axis=axis))]\n",
            "/usr/local/lib/python3.11/dist-packages/datasets/table.py:1421: FutureWarning: promote has been superseded by promote_options='default'.\n",
            "  table = cls._concat_blocks(blocks, axis=0)\n"
          ]
        },
        {
          "output_type": "stream",
          "name": "stdout",
          "text": [
            "✅ Full dataset created with 11844 conversations\n",
            "\n",
            "🧪 Example conversation:\n",
            "[{'content': 'Explain the process of manually decoding and modifying a '\n",
            "             'gRPC-Web payload using the gRPC Coder tool.',\n",
            "  'role': 'user'},\n",
            " {'content': 'To manually decode and modify a gRPC-Web payload: \\\\n1. Decode '\n",
            "             'the base64 payload using `grpc-coder.py` with the `--decode` '\n",
            "             'flag and output it in protoscope format.\\\\n2. Edit the decoded '\n",
            "             'content in a text editor (e.g., `nano`) to manipulate fields '\n",
            "             'like strings, integers, or inject payloads (e.g., XSS).\\\\n3. '\n",
            "             'Re-encode the modified content using `protoscope` and '\n",
            "             '`grpc-coder.py` with the `--encode` flag.\\\\n4. Use the resulting '\n",
            "             'base64 payload in tools like Burp Suite for testing.',\n",
            "  'role': 'assistant'}]\n",
            "📄 Source: HackTricks\n",
            "💾 Dataset saved to final_conversation_dataset.csv\n"
          ]
        }
      ]
    },
    {
      "cell_type": "code",
      "source": [
        "import pandas as pd\n",
        "from sklearn.model_selection import train_test_split\n",
        "\n",
        "# Charger le CSV final\n",
        "df = pd.read_csv(\"final_conversation_dataset.csv\")\n",
        "\n",
        "# Listes pour stocker les splits\n",
        "train_parts = []\n",
        "val_parts = []\n",
        "test_parts = []\n",
        "\n",
        "# Séparer pour chaque source individuellement\n",
        "for source in df[\"source\"].unique():\n",
        "    source_df = df[df[\"source\"] == source]\n",
        "\n",
        "    # D'abord séparer train (90%) et temp (10%)\n",
        "    train_df, temp_df = train_test_split(\n",
        "        source_df, test_size=0.10, random_state=42, shuffle=True\n",
        "    )\n",
        "\n",
        "    # Ensuite séparer temp en val (5%) et test (5%)\n",
        "    val_df, test_df = train_test_split(\n",
        "        temp_df, test_size=0.5, random_state=42, shuffle=True\n",
        "    )\n",
        "\n",
        "    # Ajouter aux listes\n",
        "    train_parts.append(train_df)\n",
        "    val_parts.append(val_df)\n",
        "    test_parts.append(test_df)\n",
        "\n",
        "# Concaténer les parties finales\n",
        "train_final = pd.concat(train_parts).sample(frac=1, random_state=42).reset_index(drop=True)\n",
        "val_final = pd.concat(val_parts).sample(frac=1, random_state=42).reset_index(drop=True)\n",
        "test_final = pd.concat(test_parts).sample(frac=1, random_state=42).reset_index(drop=True)\n",
        "\n",
        "# Sauvegarder les fichiers\n",
        "train_final.to_csv(\"train.csv\", index=False)\n",
        "val_final.to_csv(\"val.csv\", index=False)\n",
        "test_final.to_csv(\"test.csv\", index=False)\n",
        "\n",
        "print(\"✅ Datasets saved:\")\n",
        "print(f\"🔹 Train: {len(train_final)} examples\")\n",
        "print(f\"🔹 Validation: {len(val_final)} examples\")\n",
        "print(f\"🔹 Test: {len(test_final)} examples\")\n"
      ],
      "metadata": {
        "colab": {
          "base_uri": "https://localhost:8080/"
        },
        "id": "nYH49ULKECpT",
        "outputId": "a9757689-eeeb-4d7d-948a-3e3dd02e2f09"
      },
      "execution_count": null,
      "outputs": [
        {
          "output_type": "stream",
          "name": "stdout",
          "text": [
            "✅ Datasets saved:\n",
            "🔹 Train: 10658 examples\n",
            "🔹 Validation: 592 examples\n",
            "🔹 Test: 594 examples\n"
          ]
        }
      ]
    },
    {
      "cell_type": "code",
      "source": [
        "import pandas as pd\n",
        "\n",
        "# Charger les datasets\n",
        "train_df = pd.read_csv(\"train.csv\")\n",
        "val_df = pd.read_csv(\"val.csv\")\n",
        "test_df = pd.read_csv(\"test.csv\")\n",
        "\n",
        "# Fonction utilitaire\n",
        "def count_sources(df, name):\n",
        "    print(f\"\\n📊 Répartition dans {name}:\")\n",
        "    print(df[\"source\"].value_counts())\n",
        "\n",
        "# Afficher les répartitions\n",
        "count_sources(train_df, \"Train\")\n",
        "count_sources(val_df, \"Validation\")\n",
        "count_sources(test_df, \"Test\")\n"
      ],
      "metadata": {
        "colab": {
          "base_uri": "https://localhost:8080/"
        },
        "id": "cqfq-4iJFL5M",
        "outputId": "dfa92da3-01a3-49ab-b154-32d21e9404d0"
      },
      "execution_count": null,
      "outputs": [
        {
          "output_type": "stream",
          "name": "stdout",
          "text": [
            "\n",
            "📊 Répartition dans Train:\n",
            "source\n",
            "HackTricks    10280\n",
            "CEH             296\n",
            "CTF-man          82\n",
            "Name: count, dtype: int64\n",
            "\n",
            "📊 Répartition dans Validation:\n",
            "source\n",
            "HackTricks    571\n",
            "CEH            16\n",
            "CTF-man         5\n",
            "Name: count, dtype: int64\n",
            "\n",
            "📊 Répartition dans Test:\n",
            "source\n",
            "HackTricks    572\n",
            "CEH            17\n",
            "CTF-man         5\n",
            "Name: count, dtype: int64\n"
          ]
        }
      ]
    },
    {
      "cell_type": "code",
      "source": [
        "import pandas as pd\n",
        "import re\n",
        "\n",
        "def fix_missing_commas(text):\n",
        "    # Remplace les cas où deux dictionnaires sont collés sans virgule\n",
        "    return re.sub(r'}\\s*{', '}, {', str(text))\n",
        "\n",
        "# Liste des fichiers à corriger\n",
        "files = [\"train.csv\", \"val.csv\", \"test.csv\"]\n",
        "column_name = \"conversations\"\n",
        "\n",
        "for file in files:\n",
        "    try:\n",
        "        df = pd.read_csv(file)\n",
        "        if column_name in df.columns:\n",
        "            df[column_name] = df[column_name].astype(str).apply(fix_missing_commas)\n",
        "            df.to_csv(file, index=False)\n",
        "            print(f\"✅ {file} corrigé et sauvegardé.\")\n",
        "        else:\n",
        "            print(f\"❌ Colonne '{column_name}' non trouvée dans {file}\")\n",
        "    except Exception as e:\n",
        "        print(f\"❌ Erreur lors du traitement de {file} : {e}\")\n"
      ],
      "metadata": {
        "colab": {
          "base_uri": "https://localhost:8080/"
        },
        "id": "CWeCesEQK6MW",
        "outputId": "433701e1-b62c-47d8-a662-8dbec8904b19"
      },
      "execution_count": null,
      "outputs": [
        {
          "output_type": "stream",
          "name": "stdout",
          "text": [
            "✅ train.csv corrigé et sauvegardé.\n",
            "✅ val.csv corrigé et sauvegardé.\n",
            "✅ test.csv corrigé et sauvegardé.\n"
          ]
        }
      ]
    },
    {
      "cell_type": "code",
      "source": [
        "%%capture\n",
        "import os\n",
        "if \"COLAB_\" not in \"\".join(os.environ.keys()):\n",
        "    !pip install unsloth\n",
        "else:\n",
        "    # Do this only in Colab notebooks! Otherwise use pip install unsloth\n",
        "    !pip install --no-deps bitsandbytes accelerate xformers==0.0.29.post3 peft trl==0.15.2 triton cut_cross_entropy unsloth_zoo\n",
        "    !pip install sentencepiece protobuf \"datasets>=3.4.1\" huggingface_hub hf_transfer\n",
        "    !pip install transformers==4.51.3\n",
        "    !pip install --no-deps unsloth"
      ],
      "metadata": {
        "id": "dpF6vMBB0Gll"
      },
      "execution_count": null,
      "outputs": []
    },
    {
      "cell_type": "code",
      "source": [
        "from unsloth import FastLanguageModel\n",
        "import pandas as pd\n",
        "import ast\n",
        "from transformers import AutoTokenizer\n",
        "\n",
        "# Load Mistral tokenizer\n",
        "tokenizer = AutoTokenizer.from_pretrained(\"unsloth/mistral-7b-instruct-v0.3-bnb-4bit\",load_in_4bit = True)\n",
        "\n"
      ],
      "metadata": {
        "id": "hKvhVkz1NBcu",
        "colab": {
          "base_uri": "https://localhost:8080/",
          "height": 180,
          "referenced_widgets": [
            "1e27a9ec58e440dc86ce1952977e9ceb",
            "abeeedb3b0644cb5b2a8ffdb72d00ac5",
            "2ed5fdca990345199ec4488d70a0e221",
            "f22cb4efa8ad4bceb6922be046c30966",
            "5671066e0f8d46478d3b11501373a133",
            "01422bad5fb34cb0be02e039a504b982",
            "c8fb8f77449240cc872c7d4530cb5796",
            "ca4caf7ee7db476099f78294caf6fda7",
            "7148be04a2314f968cd2b79f1de8b39e",
            "1cfba1528a5543a09b10e61234ce566c",
            "44d71edf12c5469982d6ef7d40d94298",
            "58f6ba282e9c407a81eeb3294ae72a19",
            "63ce21c0c2cd45f5bf5d51524254b0e5",
            "1a857fbb7f814ae7bbf350581e16b7d4",
            "f119734729514922b659d40de3a257fa",
            "c24b0ba1a74d4ded8ab8bd3e9fa0658d",
            "0a0e251d23e54691a5be7b49f359102e",
            "820bf4d1f9a84cb784f2a43bb5d62bec",
            "b89b1e7f12574d14a8f95bdf14fcbf09",
            "121635a9f6724bdfbab1f2463e659563",
            "75671a2dfd5b4767938629586f461e4f",
            "dd737113c17640b4bf9518b461a20a88",
            "55573058a2174e32b9f7a6f6baf2ccfa",
            "22ba60f04e0b47fe98f61ef4d4b34de7",
            "c2d1f9c52f0547239b738aaac8e2fbe1",
            "04dd7b15c4f64a21808a55beafc74024",
            "016927b362cf40b19ce02f0606b7ca1c",
            "0147e7553a9e46ddaed3057abf438fe8",
            "92ea86b0a14941e7b11a49a6fbbb0b19",
            "8e271d67794541358e806e5280c948a1",
            "8cba0f3543b84f4bb61382751a47d4d5",
            "1de7606a5f5f4317805b7d3902f95b22",
            "b6ff616326a14aebb53ef54ea14656ec",
            "7fe2c73245ba4a0a8aabb4841a0d4f51",
            "2ce01942a703481a916ce423634af705",
            "fbac32b671594ef7aa50e1c41744d3e9",
            "d8243342349b4029aac8b7c4520b63ee",
            "a83e9fae7d9245d380d4ea38df3f2a09",
            "ed01245cffa948f2a8dafe47be450ecf",
            "c97f98f28360437fa20e308db422e3bf",
            "0105f294dbfb4a1bae0f1e47d59bd52c",
            "14eeee4e8a4c418785c13a1e1c55aae7",
            "f2febfb9891a413ebdac8275fc17c4dd",
            "303313611ea74ed993c7f7a7dfe301ae"
          ]
        },
        "outputId": "85faaebd-1f1c-48d7-f55c-87ecc3f3c662"
      },
      "execution_count": null,
      "outputs": [
        {
          "output_type": "stream",
          "name": "stdout",
          "text": [
            "🦥 Unsloth: Will patch your computer to enable 2x faster free finetuning.\n",
            "🦥 Unsloth Zoo will now patch everything to make training faster!\n"
          ]
        },
        {
          "output_type": "display_data",
          "data": {
            "text/plain": [
              "tokenizer_config.json:   0%|          | 0.00/141k [00:00<?, ?B/s]"
            ],
            "application/vnd.jupyter.widget-view+json": {
              "version_major": 2,
              "version_minor": 0,
              "model_id": "1e27a9ec58e440dc86ce1952977e9ceb"
            }
          },
          "metadata": {}
        },
        {
          "output_type": "display_data",
          "data": {
            "text/plain": [
              "tokenizer.model:   0%|          | 0.00/587k [00:00<?, ?B/s]"
            ],
            "application/vnd.jupyter.widget-view+json": {
              "version_major": 2,
              "version_minor": 0,
              "model_id": "58f6ba282e9c407a81eeb3294ae72a19"
            }
          },
          "metadata": {}
        },
        {
          "output_type": "display_data",
          "data": {
            "text/plain": [
              "tokenizer.json:   0%|          | 0.00/1.96M [00:00<?, ?B/s]"
            ],
            "application/vnd.jupyter.widget-view+json": {
              "version_major": 2,
              "version_minor": 0,
              "model_id": "55573058a2174e32b9f7a6f6baf2ccfa"
            }
          },
          "metadata": {}
        },
        {
          "output_type": "display_data",
          "data": {
            "text/plain": [
              "special_tokens_map.json:   0%|          | 0.00/446 [00:00<?, ?B/s]"
            ],
            "application/vnd.jupyter.widget-view+json": {
              "version_major": 2,
              "version_minor": 0,
              "model_id": "7fe2c73245ba4a0a8aabb4841a0d4f51"
            }
          },
          "metadata": {}
        }
      ]
    },
    {
      "cell_type": "code",
      "source": [
        "import pandas as pd\n",
        "import json\n",
        "import ast\n",
        "from transformers import AutoTokenizer\n",
        "\n",
        "# Liste des fichiers à traiter\n",
        "files = [\"train.csv\", \"val.csv\", \"test.csv\"]\n",
        "column_name = \"conversations\"\n",
        "\n",
        "\n",
        "# Paramètres\n",
        "max_tokens = 4500\n",
        "round_overlap = 1  # Nombre de tours à chevaucher\n",
        "\n",
        "for file in files:\n",
        "    print(f\"🔄 Traitement de {file}\")\n",
        "    df = pd.read_csv(file)\n",
        "    processed_rows = []\n",
        "\n",
        "    for idx, row in df.iterrows():\n",
        "        try:\n",
        "            raw_data = row[column_name]\n",
        "\n",
        "            # Parse JSON ou Python literal\n",
        "            try:\n",
        "                messages = json.loads(raw_data)\n",
        "            except json.JSONDecodeError:\n",
        "                messages = ast.literal_eval(raw_data)\n",
        "\n",
        "            if not messages or messages[0].get(\"role\") != \"user\":\n",
        "                continue\n",
        "\n",
        "            # Nombre de paires user/assistant\n",
        "            count_pairs = 0\n",
        "            for i in range(0, len(messages) - 1, 2):\n",
        "                if messages[i].get(\"role\") == \"user\" and messages[i + 1].get(\"role\") == \"assistant\":\n",
        "                    count_pairs += 1\n",
        "\n",
        "            if count_pairs < 2:\n",
        "                # 💡 Si moins de 2 paires : garder tel quel\n",
        "                new_row = row.copy()\n",
        "                new_row[column_name] = json.dumps(messages, ensure_ascii=False)\n",
        "                processed_rows.append(new_row)\n",
        "                continue\n",
        "\n",
        "            # Sinon : découpage en sous-conversations\n",
        "            i = 0\n",
        "            while i < len(messages) - 1:\n",
        "                subconv = []\n",
        "                tokens = 0\n",
        "                start_i = i\n",
        "\n",
        "                while i < len(messages) - 1:\n",
        "                    user_msg = messages[i]\n",
        "                    assistant_msg = messages[i + 1]\n",
        "\n",
        "                    if user_msg[\"role\"] != \"user\" or assistant_msg[\"role\"] != \"assistant\":\n",
        "                        i += 1\n",
        "                        continue\n",
        "\n",
        "                    pair_tokens = len(tokenizer.encode(user_msg[\"content\"], add_special_tokens=False)) + \\\n",
        "                                  len(tokenizer.encode(assistant_msg[\"content\"], add_special_tokens=False))\n",
        "\n",
        "                    if tokens + pair_tokens <= max_tokens:\n",
        "                        subconv.extend([user_msg, assistant_msg])\n",
        "                        tokens += pair_tokens\n",
        "                        i += 2\n",
        "                    else:\n",
        "                        break\n",
        "\n",
        "                if subconv:\n",
        "                    new_row = row.copy()\n",
        "                    new_row[column_name] = json.dumps(subconv, ensure_ascii=False)\n",
        "                    processed_rows.append(new_row)\n",
        "\n",
        "                i = max(i - round_overlap * 2, start_i + 2)\n",
        "\n",
        "        except Exception as e:\n",
        "            print(f\"❌ Erreur ligne {idx} dans {file}: {e}\")\n",
        "            continue\n",
        "\n",
        "    # Sauvegarde finale\n",
        "    output_file = file.replace(\".csv\", \"_with_sub_conversations.csv\")\n",
        "    pd.DataFrame(processed_rows).to_csv(output_file, index=False)\n",
        "    print(f\"✅ Sauvegardé dans {output_file}\")\n"
      ],
      "metadata": {
        "colab": {
          "base_uri": "https://localhost:8080/"
        },
        "id": "0S9Uj2hPHlpF",
        "outputId": "01ece206-8cfa-49d9-f028-dd2b50627853"
      },
      "execution_count": null,
      "outputs": [
        {
          "output_type": "stream",
          "name": "stdout",
          "text": [
            "🔄 Traitement de train.csv\n",
            "✅ Sauvegardé dans train_with_sub_conversations.csv\n",
            "🔄 Traitement de val.csv\n",
            "✅ Sauvegardé dans val_with_sub_conversations.csv\n",
            "🔄 Traitement de test.csv\n",
            "✅ Sauvegardé dans test_with_sub_conversations.csv\n"
          ]
        }
      ]
    },
    {
      "cell_type": "code",
      "source": [
        "import pandas as pd\n",
        "\n",
        "# Charger les datasets\n",
        "train_df = pd.read_csv(\"train_with_sub_conversations.csv\")\n",
        "val_df = pd.read_csv(\"val_with_sub_conversations.csv\")\n",
        "test_df = pd.read_csv(\"test_with_sub_conversations.csv\")\n",
        "\n",
        "# Fonction utilitaire\n",
        "def count_sources(df, name):\n",
        "    print(f\"\\n📊 Répartition dans {name}:\")\n",
        "    print(df[\"source\"].value_counts())\n",
        "\n",
        "# Afficher les répartitions\n",
        "count_sources(train_df, \"Train\")\n",
        "count_sources(val_df, \"Validation\")\n",
        "count_sources(test_df, \"Test\")\n"
      ],
      "metadata": {
        "colab": {
          "base_uri": "https://localhost:8080/"
        },
        "id": "zAGbFjexLOcT",
        "outputId": "30ea1390-bd9d-450e-c68f-c16cb69e95c0"
      },
      "execution_count": null,
      "outputs": [
        {
          "output_type": "stream",
          "name": "stdout",
          "text": [
            "\n",
            "📊 Répartition dans Train:\n",
            "source\n",
            "HackTricks    10280\n",
            "CTF-man         380\n",
            "CEH             296\n",
            "Name: count, dtype: int64\n",
            "\n",
            "📊 Répartition dans Validation:\n",
            "source\n",
            "HackTricks    571\n",
            "CTF-man        23\n",
            "CEH            16\n",
            "Name: count, dtype: int64\n",
            "\n",
            "📊 Répartition dans Test:\n",
            "source\n",
            "HackTricks    572\n",
            "CTF-man        22\n",
            "CEH            17\n",
            "Name: count, dtype: int64\n"
          ]
        }
      ]
    }
  ]
}
